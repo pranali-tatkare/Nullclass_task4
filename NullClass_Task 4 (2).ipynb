{
 "cells": [
  {
   "cell_type": "code",
   "execution_count": null,
   "id": "52db9953",
   "metadata": {},
   "outputs": [],
   "source": [
    "# Task 4 : Create a feature to throw an error if we enter the wrong word . \n",
    "#For example if we enter a word which is not available the program should throw an error saying \n",
    "#like this “word is not available” and provide some suggestion related to the word which is incorrect . \n",
    "#If the user enter continuously 2 wrong word it should show list of wrong words which \n",
    "#we enter so far in the error notification as well as it should give some suggestions related with wrong word ."
   ]
  },
  {
   "cell_type": "code",
   "execution_count": 3,
   "id": "f7a0441e",
   "metadata": {},
   "outputs": [
    {
     "name": "stdout",
     "output_type": "stream",
     "text": [
      "Collecting textblob\n",
      "  Downloading textblob-0.18.0.post0-py3-none-any.whl (626 kB)\n",
      "     -------------------------------------- 626.3/626.3 kB 1.9 MB/s eta 0:00:00\n",
      "Collecting nltk>=3.8\n",
      "  Downloading nltk-3.8.1-py3-none-any.whl (1.5 MB)\n",
      "     ---------------------------------------- 1.5/1.5 MB 1.8 MB/s eta 0:00:00\n",
      "Requirement already satisfied: regex>=2021.8.3 in c:\\users\\hp\\anaconda3\\lib\\site-packages (from nltk>=3.8->textblob) (2022.7.9)\n",
      "Requirement already satisfied: joblib in c:\\users\\hp\\anaconda3\\lib\\site-packages (from nltk>=3.8->textblob) (1.1.0)\n",
      "Requirement already satisfied: click in c:\\users\\hp\\anaconda3\\lib\\site-packages (from nltk>=3.8->textblob) (8.0.4)\n",
      "Requirement already satisfied: tqdm in c:\\users\\hp\\anaconda3\\lib\\site-packages (from nltk>=3.8->textblob) (4.64.1)\n",
      "Requirement already satisfied: colorama in c:\\users\\hp\\anaconda3\\lib\\site-packages (from click->nltk>=3.8->textblob) (0.4.5)\n",
      "Installing collected packages: nltk, textblob\n",
      "  Attempting uninstall: nltk\n",
      "    Found existing installation: nltk 3.7\n",
      "    Uninstalling nltk-3.7:\n",
      "      Successfully uninstalled nltk-3.7\n",
      "Successfully installed nltk-3.8.1 textblob-0.18.0.post0\n"
     ]
    }
   ],
   "source": [
    "#install library\n",
    "!pip install textblob\n"
   ]
  },
  {
   "cell_type": "code",
   "execution_count": 4,
   "id": "4506fe80",
   "metadata": {},
   "outputs": [],
   "source": [
    "#import library\n",
    "from textblob import Word\n",
    "from collections import defaultdict\n",
    "import nltk"
   ]
  },
  {
   "cell_type": "code",
   "execution_count": 5,
   "id": "270ccbd0",
   "metadata": {},
   "outputs": [
    {
     "name": "stderr",
     "output_type": "stream",
     "text": [
      "[nltk_data] Downloading package wordnet to\n",
      "[nltk_data]     C:\\Users\\HP\\AppData\\Roaming\\nltk_data...\n"
     ]
    },
    {
     "data": {
      "text/plain": [
       "True"
      ]
     },
     "execution_count": 5,
     "metadata": {},
     "output_type": "execute_result"
    }
   ],
   "source": [
    "#Downloading the WordNet corpus, which is a lexical database of the English language.\n",
    "nltk.download('wordnet')"
   ]
  },
  {
   "cell_type": "code",
   "execution_count": 6,
   "id": "aeb58001",
   "metadata": {},
   "outputs": [],
   "source": [
    "# Dictionary to store wrong words and their suggestions\n",
    "wrong_words = defaultdict(list)"
   ]
  },
  {
   "cell_type": "code",
   "execution_count": 7,
   "id": "b3d40137",
   "metadata": {},
   "outputs": [],
   "source": [
    "#create function for word availability,handle_word\n",
    "def check_word_availability(word):\n",
    "    if not Word(word).definitions:\n",
    "        wrong_words[word].extend(Word(word).spellcheck())\n",
    "        return False\n",
    "    return True\n",
    "\n",
    "def handle_wrong_words():\n",
    "    wrong_word_count = len(wrong_words)\n",
    "    if wrong_word_count >= 2:\n",
    "        print(\"You've entered multiple wrong words:\")\n",
    "        for wrong_word, suggestions in wrong_words.items():\n",
    "            print(f\"{wrong_word}: Suggestions - {', '.join([suggestion[0] for suggestion in suggestions])}\")\n",
    "\n",
    "def main():\n",
    "    while True:\n",
    "        word = input(\"Enter a word to check its availability: \")\n",
    "        if check_word_availability(word):\n",
    "            print(f\"{word} is available.\")\n",
    "        else:\n",
    "            print(f\"Error: {word} is not available.\")\n",
    "            handle_wrong_words()\n"
   ]
  },
  {
   "cell_type": "code",
   "execution_count": null,
   "id": "d2b2df49",
   "metadata": {},
   "outputs": [
    {
     "name": "stdout",
     "output_type": "stream",
     "text": [
      "Enter a word to check its availability: pranali\n",
      "Error: pranali is not available.\n",
      "Enter a word to check its availability: tatkare\n",
      "Error: tatkare is not available.\n",
      "You've entered multiple wrong words:\n",
      "pranali: Suggestions - pranali\n",
      "tatkare: Suggestions - tatkare\n",
      "Enter a word to check its availability: smart\n",
      "smart is available.\n"
     ]
    }
   ],
   "source": [
    "# main function calling\n",
    "if __name__ == \"__main__\":\n",
    "    main()"
   ]
  },
  {
   "cell_type": "code",
   "execution_count": null,
   "id": "9c273f2a",
   "metadata": {},
   "outputs": [],
   "source": []
  },
  {
   "cell_type": "code",
   "execution_count": 1,
   "id": "bb72c19f",
   "metadata": {},
   "outputs": [],
   "source": [
    "#######################python gui########################################\n",
    "import tkinter as tk\n",
    "from tkinter import messagebox\n",
    "from textblob import Word\n",
    "from collections import defaultdict\n",
    "\n",
    "# Initialize defaultdict to store wrong words and their suggestions\n",
    "wrong_words = defaultdict(list)\n",
    "\n",
    "# Function to check word availability and suggest corrections if not available\n",
    "def check_word_availability(word):\n",
    "    if not Word(word).definitions:\n",
    "        wrong_words[word].extend(Word(word).spellcheck())\n",
    "        return False\n",
    "    return True\n",
    "\n",
    "# Function to handle multiple wrong words\n",
    "def handle_wrong_words():\n",
    "    wrong_word_count = len(wrong_words)\n",
    "    if wrong_word_count >= 2:\n",
    "        error_message = \"You've entered multiple wrong words:\\n\"\n",
    "        for wrong_word, suggestions in wrong_words.items():\n",
    "            error_message += f\"{wrong_word}: Suggestions - {', '.join([suggestion[0] for suggestion in suggestions])}\\n\"\n",
    "        messagebox.showerror(\"Multiple Errors\", error_message)\n",
    "\n",
    "# Function to handle button click and check word availability\n",
    "def check_word():\n",
    "    word = entry_word.get().strip().lower()\n",
    "    if not word:\n",
    "        messagebox.showerror(\"Input Error\", \"Please enter a word.\")\n",
    "        return\n",
    "    \n",
    "    if check_word_availability(word):\n",
    "        messagebox.showinfo(\"Word Availability\", f\"{word} is available.\")\n",
    "    else:\n",
    "        messagebox.showerror(\"Word Error\", f\"Error: {word} is not available.\")\n",
    "        handle_wrong_words()\n",
    "\n",
    "# Create the main application window\n",
    "root = tk.Tk()\n",
    "root.title(\"Word Availability Checker\")\n",
    "\n",
    "# Create label and entry widget for input word\n",
    "label_word = tk.Label(root, text=\"Enter a word:\")\n",
    "label_word.pack(pady=10)\n",
    "entry_word = tk.Entry(root, width=30)\n",
    "entry_word.pack(pady=5)\n",
    "\n",
    "# Create button to check word availability\n",
    "button_check = tk.Button(root, text=\"Check Availability\", command=check_word)\n",
    "button_check.pack(pady=10)\n",
    "\n",
    "# Run the main application\n",
    "root.mainloop()\n"
   ]
  },
  {
   "cell_type": "code",
   "execution_count": null,
   "id": "81e1cbbb",
   "metadata": {},
   "outputs": [],
   "source": []
  }
 ],
 "metadata": {
  "kernelspec": {
   "display_name": "Python 3 (ipykernel)",
   "language": "python",
   "name": "python3"
  },
  "language_info": {
   "codemirror_mode": {
    "name": "ipython",
    "version": 3
   },
   "file_extension": ".py",
   "mimetype": "text/x-python",
   "name": "python",
   "nbconvert_exporter": "python",
   "pygments_lexer": "ipython3",
   "version": "3.9.13"
  }
 },
 "nbformat": 4,
 "nbformat_minor": 5
}
